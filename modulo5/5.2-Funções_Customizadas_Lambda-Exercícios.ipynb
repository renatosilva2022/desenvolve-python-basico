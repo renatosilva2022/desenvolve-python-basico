{
  "metadata": {
    "kernelspec": {
      "name": "python",
      "display_name": "Python (Pyodide)",
      "language": "python"
    },
    "language_info": {
      "codemirror_mode": {
        "name": "python",
        "version": 3
      },
      "file_extension": ".py",
      "mimetype": "text/x-python",
      "name": "python",
      "nbconvert_exporter": "python",
      "pygments_lexer": "ipython3",
      "version": "3.8"
    }
  },
  "nbformat_minor": 5,
  "nbformat": 4,
  "cells": [
    {
      "id": "cbdff5a5",
      "cell_type": "markdown",
      "source": "# Módulo 5 - Funções\n\n## Aulas 5.2 - Funções Customizadas e 5.4 Funções ```lambda```",
      "metadata": {}
    },
    {
      "id": "28a3fee2",
      "cell_type": "markdown",
      "source": "### Q1.\n\n- Sabendo que o código a seguir calcula o fatorial de n, escreva uma função chamada ```fatorial()``` que recebe um inteiro ```n``` como parâmetro e retorna o resultado do fatorial de ```n```. \n- No programa principal, peça ao usuário o valor de ```n```, chame a sua função e imprima o retorno.\n\n```python\nfat = 1\nfor i in range(1, n+1):\n    fat *= i \n```",
      "metadata": {}
    },
    {
      "id": "d126b3a5",
      "cell_type": "code",
      "source": "## Crie aqui a função fatorial()\n## lembre-se de executar a célula para que \n## a função passe a existir e possa ser chamada\n\ndef fatorial ():\n    n = int(input('Digite o número a ser feita a fatorial: \\n'))\n    \n    fat = 1\n    for i in range(1, n + 1):\n        fat *= i\n    return fat",
      "metadata": {},
      "outputs": [],
      "execution_count": null
    },
    {
      "id": "6e4fe64e",
      "cell_type": "code",
      "source": "## Escreva aqui o programa principal e execute a célula\n\ndef fatorial ():\n    n = int(input('Digite o número a ser feita a fatorial: \\n'))\n    \n    fat = 1\n    for i in range(1, n + 1):\n        fat *= i\n    return fat\n\nprint(fatorial())",
      "metadata": {
        "trusted": true
      },
      "outputs": [
        {
          "ename": "<class 'TypeError'>",
          "evalue": "int() argument must be a string, a bytes-like object or a real number, not 'PyodideFuture'",
          "traceback": [
            "\u001b[0;31m---------------------------------------------------------------------------\u001b[0m",
            "\u001b[0;31mTypeError\u001b[0m                                 Traceback (most recent call last)",
            "Cell \u001b[0;32mIn[1], line 11\u001b[0m\n\u001b[1;32m      8\u001b[0m         fat \u001b[38;5;241m*\u001b[39m\u001b[38;5;241m=\u001b[39m i\n\u001b[1;32m      9\u001b[0m     \u001b[38;5;28;01mreturn\u001b[39;00m fat\n\u001b[0;32m---> 11\u001b[0m \u001b[38;5;28mprint\u001b[39m(\u001b[43mfatorial\u001b[49m\u001b[43m(\u001b[49m\u001b[43m)\u001b[49m)\n",
            "Cell \u001b[0;32mIn[1], line 4\u001b[0m, in \u001b[0;36mfatorial\u001b[0;34m()\u001b[0m\n\u001b[1;32m      3\u001b[0m \u001b[38;5;28;01mdef\u001b[39;00m \u001b[38;5;21mfatorial\u001b[39m ():\n\u001b[0;32m----> 4\u001b[0m     n \u001b[38;5;241m=\u001b[39m \u001b[38;5;28;43mint\u001b[39;49m\u001b[43m(\u001b[49m\u001b[38;5;28;43minput\u001b[39;49m\u001b[43m(\u001b[49m\u001b[38;5;124;43m'\u001b[39;49m\u001b[38;5;124;43mDigite o número a ser feita a fatorial: \u001b[39;49m\u001b[38;5;130;43;01m\\n\u001b[39;49;00m\u001b[38;5;124;43m'\u001b[39;49m\u001b[43m)\u001b[49m\u001b[43m)\u001b[49m\n\u001b[1;32m      6\u001b[0m     fat \u001b[38;5;241m=\u001b[39m \u001b[38;5;241m1\u001b[39m\n\u001b[1;32m      7\u001b[0m     \u001b[38;5;28;01mfor\u001b[39;00m i \u001b[38;5;129;01min\u001b[39;00m \u001b[38;5;28mrange\u001b[39m(\u001b[38;5;241m1\u001b[39m, n \u001b[38;5;241m+\u001b[39m \u001b[38;5;241m1\u001b[39m):\n",
            "\u001b[0;31mTypeError\u001b[0m: int() argument must be a string, a bytes-like object or a real number, not 'PyodideFuture'"
          ],
          "output_type": "error"
        },
        {
          "output_type": "stream",
          "name": "stdin",
          "text": "Digite o número a ser feita a fatorial: \n 2\n"
        }
      ],
      "execution_count": 1
    },
    {
      "id": "c0a1f599",
      "cell_type": "markdown",
      "source": "### Q2.\n\n- Escreva uma função em Python chamada ```soma_quadrados``` que recebe dois números como parâmetros e retorna a soma dos seus quadrados. \n- No programa principal solicite ao usuário que insira dois números e utilize a função para exibir a soma dos quadrados.",
      "metadata": {}
    },
    {
      "id": "6dbddaad",
      "cell_type": "code",
      "source": "## Crie aqui a função soma_quadrados()\n\ndef soma_quadrados(a, b):\n    quadrado_a = a * a\n    quadrado_b = b * b\n    \n    soma = quadrado_a + quadrado_b\n    print(soma)",
      "metadata": {},
      "outputs": [],
      "execution_count": null
    },
    {
      "id": "9175a7da",
      "cell_type": "code",
      "source": "## Escreva aqui o programa principal e execute a célula\n\na = int(input('Digite o primeiro número a se calcular o quadrado: \\n'))\nb = int(input(\"Digite o segundo número a se calcular o quadrado: \\n\"))\n\ndef soma_quadrados(a, b):\n    quadrado_a = a * a\n    quadrado_b = b * b\n    \n    soma = quadrado_a + quadrado_b\n    print(soma)\n\nprint(soma_quadrados(a,b))\n",
      "metadata": {},
      "outputs": [],
      "execution_count": null
    },
    {
      "id": "6ba34ce0",
      "cell_type": "markdown",
      "source": "### Q3.\n\n- Crie uma função em Python chamada ```soma_digitos``` que recebe um número inteiro como parâmetro e retorna a soma dos seus dígitos. Por exemplo, para o número 123, a função deve retornar 6, $(1 + 2 + 3)$.\n    - O desafio aqui é separar os dígitos de um número inteiro usando operações aritméticas <br> <br>\n\n- No programa principal solicite ao usuário que insira um número e utilize a função ```soma_digitos``` para calcular e exibir a soma dos seus dígitos.",
      "metadata": {}
    },
    {
      "id": "34838ebf",
      "cell_type": "code",
      "source": "## Crie aqui a função soma_digitos()\n\ndef soma_digitos():\n    soma = 0\n    for i in range (1, num + 1):\n        soma += i\n    return soma",
      "metadata": {},
      "outputs": [],
      "execution_count": null
    },
    {
      "id": "27c35b21",
      "cell_type": "code",
      "source": "## Escreva aqui o programa principal e execute a célula\n\nnum = int(input('Digite o número a se fazer a soma de todos eles: \\n'))\n\ndef soma_digitos():\n    soma = 0\n    for i in range (1, num + 1):\n        soma += i\n    return soma\n\nprint(soma_digitos())",
      "metadata": {},
      "outputs": [],
      "execution_count": null
    },
    {
      "id": "c318b159",
      "cell_type": "markdown",
      "source": "### Q4.\n\n- Crie a função ```inverteValor()``` que recebe um inteiro de qualquer tamanho e retorna esse valor invertido usando apenas operações aritméticas\n- Crie a função ```verificaInverso()``` que recebe o valor original e o valor invertido e retorna verdadeiro se ambos forem igualmente par ou igualmente ímpar. Retorne falso caso contrário.\n- No programa principal, peça um valor do usuário e imprima o retorno de ambas as funções.\n",
      "metadata": {}
    },
    {
      "id": "e4e47d1d",
      "cell_type": "code",
      "source": "## Crie aqui as funções inverteValor() e verificaInverso()\n\ndef inverteValor(n):\n    inverso = 0\n    while n > 0:\n        inverso = (inverso * 10) + (n % 10)\n        n = n // 10\n    return inverso\n\n\ndef verificaInverso(original, inverso):\n    return (original % 2 == 0 and inverso % 2 == 0) or (\n        original % 2 != 0 and inverso % 2 != 0\n    )",
      "metadata": {},
      "outputs": [],
      "execution_count": null
    },
    {
      "id": "a9514e56",
      "cell_type": "code",
      "source": "## Escreva aqui o programa principal e execute a célula\n\nn = int(input(\"Digite um número inteiro para o reverter: \\n \"))\n\ndef inverteValor(n):\n    inverso = 0\n    while n > 0:\n        inverso = (inverso * 10) + (n % 10)\n        n = n // 10\n    return inverso\n\n\ndef verificaInverso(original, inverso):\n    return (original % 2 == 0 and inverso % 2 == 0) or (\n        original % 2 != 0 and inverso % 2 != 0\n    )\n\ninverso = inverteValor(n)\nprint(\"O inverso do número é:\", inverso)\nprint(\n    \"O número original e o inverso são igualmente par ou ímpar:\",\n    verificaInverso(n, inverso),\n)\n",
      "metadata": {},
      "outputs": [],
      "execution_count": null
    },
    {
      "id": "329be966",
      "cell_type": "markdown",
      "source": "### Q5.\n\nVocê está desenvolvendo um programa para auxiliar em cálculos de geometria básica. Crie as seguintes funções:\n- A função ```calcula_perimetro_triangulo()``` que recebe três inteiros correspondentes aos lados de um triângulo e retorna o perímetro do triângulo, ou seja, a soma dos seus lados.\n- A função ```calcula_perimetro_circulo()``` que recebe um inteiro referente ao raio do círculo e retorna o perímetro do círculo, dado por $2 \\pi r$. Use a constante $\\pi$ da biblioteca ```math```.\n- A função ```calcula_perimetro_retangulo()``` que possui um parâmetro obrigatório ```lado1``` e um opcional ```lado2```, ambos inteiros. Se o valor opcional não for fornecido, significa que se trata de um quadrado. Sua função deve calcular e retornar o perímetro do retângulo, ou seja, a soma de seus lados. \n    - Para o quadrado, é dado por $4 \\times lado1$\n    - Para o retângulo é dado por $2 \\times lado1 + 2 \\times lado2$\n    \n- No programa principal apresente um menu com as opções disponíveis do seu sistema e uma quarta opção ```Sair```. Solicite ao usuário a opção desejada, solicite as entradas correspondentes à opção escolhida, invoque a respective função e apresente o seu retorno. Seu programa deve retornar ao menu até que o usuário escolha a opção ```Sair```\n\nExemplo de interação:\n```\n1 - Calcular perímetro triângulo\n2 - Calcular perímetro círculo\n3 - Calcular perímetro retângulo\n4 - Sair\n\nOpção: 1\nDigite os três lados do triângulo:\n3\n4\n5\nO perímetro é: 12\n\n1 - Calcular perímetro triângulo\n2 - Calcular perímetro círculo\n3 - Calcular perímetro retângulo\n4 - Sair\n\nOpção: 3\nInforme os dois lados do retângulo. Se for um quadrado, digite 0 para o segundo valor:\n5\n0\nO perímetro é: 20\n\n1 - Calcular perímetro triângulo\n2 - Calcular perímetro círculo\n3 - Calcular perímetro retângulo\n4 - Sair\n\nOpção: 4\n```",
      "metadata": {}
    },
    {
      "id": "0793d328",
      "cell_type": "code",
      "source": "## Crie aqui as funções \n\ndef perimetro_triangulo():\n    a = int(input('Digite o primeiro lado do triângulo: \\n'))\n    b = int(input('Digite o segundo lado do triângulo: \\n'))\n    c = int(input('Digite o terceiro lado do triângulo: \\n'))\n    \n    print(\"O perímetro é:\")\n    \n    perimetro = a + b + c\n    return perimetro\n\ndef perimetro_circulo():\n    r = int(input('Digite o raio do círculo: \\n'))\n    \n    print('O perímetro é: ')\n    \n    perimetro = 2 * 3.14 * r\n    return perimetro\n\ndef perimetro_retangulo ():\n    a = int(input('Digite o primeiro lado do retângulo: \\n'))\n    b = int(input('Digite o segundo lado do retângulo (caso queira fazer um quadrado, digite o mesmo valor do primeiro lado)'))\n    \n    print('O perímetro é: ')\n    \n    perimetro = 2 * (a + b)\n    return perimetro",
      "metadata": {},
      "outputs": [],
      "execution_count": null
    },
    {
      "id": "36269c71",
      "cell_type": "code",
      "source": "## Escreva aqui o programa principal \n\n#Funções dos cálculos\n\ndef perimetro_triangulo():\n    a = int(input('Digite o primeiro lado do triângulo: \\n'))\n    b = int(input('Digite o segundo lado do triângulo: \\n'))\n    c = int(input('Digite o terceiro lado do triângulo: \\n'))\n    \n    print(\"O perímetro é:\")\n    \n    perimetro = a + b + c\n    return perimetro\n\ndef perimetro_circulo():\n    r = int(input('Digite o raio do círculo: \\n'))\n    \n    print('O perímetro é: ')\n    \n    perimetro = 2 * 3.14 * r\n    return perimetro\n\ndef perimetro_retangulo ():\n    a = int(input('Digite o primeiro lado do retângulo: \\n'))\n    b = int(input('Digite o segundo lado do retângulo (caso queira fazer um quadrado, digite o mesmo valor do primeiro lado)'))\n    \n    print('O perímetro é: ')\n    \n    perimetro = 2 * (a + b)\n    return perimetro\n\n#Função que irá fazer o menu\noption = 0\n\nwhile option != 4: \n    \n    \n    option = int(input(\n        'Digite a opção que deseja: \\n' +\n        '1 - Calcular o perímetro do triângulo \\n' +\n        '2 - Calcular o perímetro do círculo \\n'\n        '3 - Calcular o perímetro do retângulo \\n'\n        '4 - Sair \\n' \n    ))\n\n    if option == 1:\n        print(perimetro_triangulo())\n    elif option == 2:\n        print(perimetro_circulo())\n    elif option == 3:\n        print(perimetro_retangulo())\n\nprint('Saindo...')",
      "metadata": {},
      "outputs": [],
      "execution_count": null
    },
    {
      "id": "3016bcc7",
      "cell_type": "markdown",
      "source": "## Funções ```lambda```",
      "metadata": {}
    },
    {
      "id": "f9cdb8dd",
      "cell_type": "markdown",
      "source": "### Q6.\n\nCrie uma função lambda para verificar se um número é par ou ímpar. Em seguida, solicite ao usuário um número indefinidos de valores (até que o usuário digite 0). Para cada valor de entrada, informe se é par ou ímpar.\n\nExemplo de interação:\n```\nDigite os valores que deseja verificar a paridade (digite 0 para finalizar a entrada de dados):\n3\nímpar\n8\npar\n12\npar\n5\nímpar\n7ímpar\n```",
      "metadata": {}
    },
    {
      "id": "e3c31a78",
      "cell_type": "code",
      "source": "even = lambda x: x % 2 == 0\n\n# Solicitar ao usuário um número indefinidos de valores\nnum = int(input(\"Digite um número para verificar se ele é par ou ímpar (ou 0 para sair): \"))\nwhile num != 0:\n    if even(num):\n        print(\"O número {} é par!\" .format(num))\n    else:\n        print(\"O número {} é ímpar!\" .format(num))\n    num = int(input(\"Digite um número (ou 0 para sair): \"))\n\nprint(\"Saindo...\")\n",
      "metadata": {},
      "outputs": [],
      "execution_count": null
    },
    {
      "id": "5a87474d",
      "cell_type": "markdown",
      "source": "### Q7.\n\nEscreva um programa que pergunte ao usuário qual operação ele deseja: maior ou menor.\nEm seguida leia uma quantidade indefinida de valores do usuário, até que o usuário digite o valor zero.\nApresente ao final o maior ou menor dos valores digitados de acordo com a escolha do usuário.\n\n**Sua solução deve incluir pelo menos uma função ```lambda```** \n\nExemplo de interação:\n```\nOpções: (1) maior ou (2) menor?\nOpção: 1\n\nDigite os valores de entrada. Digite 0 para finalizar a entrada de valores.\n4\n12\n15\n1\n0\n\nO maior valor é: 15\n```",
      "metadata": {}
    },
    {
      "id": "ee3f68ca",
      "cell_type": "code",
      "source": "## Escreva aqui o programa principal \nmaior = lambda a, b: a if a > b else b\nmenor = lambda a, b: a if a < b else b\n\noption = input(\n    \"Digite o número da operação que deseja fazer: \\n\" + \"1 - Maior \\n\" + \"2 - Menor \\n\"\n)\n\nif option == \"1\":\n    valor = float(\"-inf\")\nelse:\n    valor = float(\"inf\")\n\nnum = int(input(\"Digite um número (ou 0 para sair): \"))\nwhile num != 0:\n    if option == \"1\":\n        valor = maior(valor, num)\n    elif option == \"2\":\n        valor = menor(valor, num)\n    num = int(input(\"Digite um número (ou 0 para sair): \"))\n\nprint(\"De acordo com sua operação, o maior ou menor número é: {}\".format(valor))\n",
      "metadata": {},
      "outputs": [],
      "execution_count": null
    }
  ]
}