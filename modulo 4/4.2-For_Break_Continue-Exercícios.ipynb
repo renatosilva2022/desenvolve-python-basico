{
 "cells": [
  {
   "cell_type": "markdown",
   "id": "29e89030",
   "metadata": {},
   "source": [
    "# Módulo 4 - Repetições\n",
    "\n",
    "## Aulas 4.2 - Comando ```for``` e 4.3 Break e Continue"
   ]
  },
  {
   "cell_type": "markdown",
   "id": "a45b42df",
   "metadata": {},
   "source": [
    "### Q1.\n",
    "\n",
    "Crie um programa em Python que utilize o comando for para imprimir os números de 10 a 1, em ordem decrescente."
   ]
  },
  {
   "cell_type": "code",
   "execution_count": 14,
   "id": "55a75b3d",
   "metadata": {},
   "outputs": [
    {
     "name": "stdout",
     "output_type": "stream",
     "text": [
      "10\n",
      "9\n",
      "8\n",
      "7\n",
      "6\n",
      "5\n",
      "4\n",
      "3\n",
      "2\n",
      "1\n"
     ]
    }
   ],
   "source": [
    "## Escreva e execute seu código aqui\n",
    "for i in range(10, 0, -1):\n",
    "    print(i)"
   ]
  },
  {
   "cell_type": "markdown",
   "id": "94b47c36",
   "metadata": {},
   "source": [
    "### Q2.\n",
    "\n",
    "Dado um número inteiro positivo informado pelo usuário, crie um programa em Python que utilize o comando for para calcular e exibir a soma dos números de 1 até o número informado. Ou seja, $1 + 2 + 3 + ... + n$\n",
    "\n",
    "Exemplo de interação:\n",
    "```\n",
    "Digite um número: 5\n",
    "A soma dos números de 1 a 5 é 15\n",
    "```\n"
   ]
  },
  {
   "cell_type": "code",
   "execution_count": 21,
   "id": "45b71596",
   "metadata": {},
   "outputs": [
    {
     "name": "stdin",
     "output_type": "stream",
     "text": [
      "Digite um número:  5\n"
     ]
    },
    {
     "name": "stdout",
     "output_type": "stream",
     "text": [
      "A soma dos números de 1 a 5 é 15\n"
     ]
    }
   ],
   "source": [
    "## Escreva e execute seu código aqui\n",
    "\n",
    "n=int(input(\"Digite um número: \"))\n",
    "soma=0\n",
    "\n",
    "for i in range(1,n+1,1):\n",
    "    soma= soma+i\n",
    "print(f\"A soma dos números de 1 a {n} é {soma}\")"
   ]
  },
  {
   "cell_type": "markdown",
   "id": "0411d170",
   "metadata": {},
   "source": [
    "### Q3.\n",
    "\n",
    "Escreva um programa que lê 10 valores inteiros positivos do usuário e ao final imprime a média dos valores digitados com duas casas decimais.\n",
    "\n",
    "```\n",
    "Digite 10 números positivos:\n",
    "3\n",
    "2\n",
    "12\n",
    "14\n",
    "20\n",
    "42\n",
    "19\n",
    "0\n",
    "8\n",
    "1\n",
    "A média dos valores digitados é 12.10\n",
    "```"
   ]
  },
  {
   "cell_type": "code",
   "execution_count": 28,
   "id": "3f72f358",
   "metadata": {},
   "outputs": [
    {
     "name": "stdout",
     "output_type": "stream",
     "text": [
      "Digite 10 números positivos:\n"
     ]
    },
    {
     "name": "stdin",
     "output_type": "stream",
     "text": [
      " 0\n",
      " 1\n",
      " 2\n",
      " 3\n",
      " 4\n",
      " 5\n",
      " 6\n",
      " 7\n",
      " 9\n",
      " 8\n",
      " 10\n"
     ]
    },
    {
     "name": "stdout",
     "output_type": "stream",
     "text": [
      "A média dos valores digitados é 5.50\n"
     ]
    }
   ],
   "source": [
    "## Escreva e execute seu código aqui\n",
    "i=0\n",
    "soma= 0\n",
    "print(\"Digite 10 números positivos:\")\n",
    "while i<10:\n",
    "    n=int(input())\n",
    "    if n>0:\n",
    "        i +=1\n",
    "        soma= soma+n\n",
    "print(f\"A média dos valores digitados é {soma/10:.2f}\")\n",
    "\n",
    "    "
   ]
  },
  {
   "cell_type": "markdown",
   "id": "d62e27ff",
   "metadata": {},
   "source": [
    "### Q4.\n",
    "\n",
    "Você vai criar um sistema que registra os resultados dos jogos do Atlético MG ao longo de um campeonato. Seu sistema vai receber os resultados de todos os jogos do Galo, e deve calcular a pontuação do time sabendo que vitórias valem 3 pontos, empates 1 ponto e derrotas 0 pontos.\n",
    "\n",
    "Entrada: <br>\n",
    "A primeira linha de entrada é um inteiro N com a quantidade jogos do galo. Para cada jogo você deve ler 2 inteiros, o primeiro com a quantidade de gols do galo e o segundo com a quantidade de gols do time oponente. \n",
    "\n",
    "Saída: <br>\n",
    "Apresente a soma de vitórias, empates e derrotas do galo, junto com o cálculo da pontuação total.\n",
    "\n",
    "Ex:\n",
    "```\n",
    "Entrada:\n",
    "4\n",
    "2\n",
    "0\n",
    "1\n",
    "1\n",
    "0\n",
    "3\n",
    "1\n",
    "0\n",
    "\n",
    "Saída:\n",
    "Vitórias: 2\n",
    "Empates: 1\n",
    "Derrotas: 1\n",
    "Pontuação: 7\n",
    "\n",
    "```\n",
    "\n",
    "\n"
   ]
  },
  {
   "cell_type": "code",
   "execution_count": 34,
   "id": "d212f5f3-2df4-4a12-9571-f4a1cdaa26e1",
   "metadata": {
    "jp-MarkdownHeadingCollapsed": true
   },
   "outputs": [
    {
     "name": "stdin",
     "output_type": "stream",
     "text": [
      "Qnt de jogos do galo:  4\n",
      "Quantos gols o GALO fez?  2\n",
      "Quantos gols o ADVERSÁRIO fez?  0\n",
      "Quantos gols o GALO fez?  1\n",
      "Quantos gols o ADVERSÁRIO fez?  1\n",
      "Quantos gols o GALO fez?  0\n",
      "Quantos gols o ADVERSÁRIO fez?  3\n",
      "Quantos gols o GALO fez?  1\n",
      "Quantos gols o ADVERSÁRIO fez?  0\n"
     ]
    },
    {
     "name": "stdout",
     "output_type": "stream",
     "text": [
      "Vitórias:  2\n",
      "Empates:  1\n",
      "Derrotas:  1\n",
      "Pontuação:  7\n"
     ]
    }
   ],
   "source": [
    "# Escreva e execute seu código aqui\n",
    "n=int(input(\"Qnt de jogos do galo: \"))\n",
    "pontos, vitória, derrota,empate,galo,adv=0,0,0,0,0,0\n",
    "for i in range(1,n+1,1):\n",
    "    galo=galo+int(input(\"Quantos gols o GALO fez? \"))\n",
    "    adv=adv+int(input(\"Quantos gols o ADVERSÁRIO fez? \"))\n",
    "    if galo>adv:\n",
    "        vitória += 1\n",
    "        pontos +=3\n",
    "    elif galo==adv:\n",
    "        empate += 1\n",
    "        pontos +=1\n",
    "    else:\n",
    "        derrota +=1\n",
    "print(\"Vitórias: \",vitória)\n",
    "print(\"Empates: \",empate)\n",
    "print(\"Derrotas: \",derrota)\n",
    "print(\"Pontuação: \",pontos)"
   ]
  },
  {
   "cell_type": "markdown",
   "id": "fc98604d",
   "metadata": {},
   "source": [
    "### Q5.\n",
    "\n",
    "Faça um programa que lê dois inteiros N e M, e imprime na tela um campo de batalha naval. O tabuleiro deve possuir N linhas e M colunas. A primeira linha é composta por um espaço em branco e o cabeçalho das colunas, ou seja, valores de 1 a M. As N linhas seguintes iniciam com o cabeçalho da linha, ou seja, seu número, seguido de M caracteres \"/\" (barra) indicando uma possível posição jogável. \n",
    "\n",
    "```\n",
    "Entrada:\n",
    "5\n",
    "4\n",
    "\n",
    "Saída:\n",
    "  1 2 3 4 \n",
    "1 / / / / \n",
    "2 / / / / \n",
    "3 / / / / \n",
    "4 / / / / \n",
    "5 / / / / \n",
    "```\n",
    "\n",
    "Para esse exercício, precisamos lembrar que o comando print implicitamente adiciona uma quebra de linha ao final da impressão. Podemos interferir no final da impressão adicionando mais uma entrada ao print. No exemplo, finalizamos cada linha com um espaço em branco:\n",
    "```python\n",
    "print(\"Texto qualquer\", end = \" \")\n",
    "```"
   ]
  },
  {
   "cell_type": "code",
   "execution_count": 5,
   "id": "a60ef197",
   "metadata": {},
   "outputs": [
    {
     "name": "stdin",
     "output_type": "stream",
     "text": [
      "Digite o número de linhas (N):  6\n",
      "Digite o número de colunas (M):  7\n"
     ]
    },
    {
     "name": "stdout",
     "output_type": "stream",
     "text": [
      "  1 2 3 4 5 6 7 \n",
      "1 / / / / / / / \n",
      "2 / / / / / / / \n",
      "3 / / / / / / / \n",
      "4 / / / / / / / \n",
      "5 / / / / / / / \n",
      "6 / / / / / / / \n"
     ]
    }
   ],
   "source": [
    "## Escreva e execute seu código aqui\n",
    "# Lê os inteiros N e M\n",
    "N = int(input(\"Digite o número de linhas (N): \"))\n",
    "M = int(input(\"Digite o número de colunas (M): \"))\n",
    "\n",
    "# Imprime o cabeçalho das colunas\n",
    "print(\" \", end=\" \")\n",
    "for col in range(1, M + 1):\n",
    "    print(col, end=\" \")\n",
    "print()  # Move para a próxima linha\n",
    "\n",
    "# Imprime cada linha do tabuleiro\n",
    "for linha in range(1, N + 1):\n",
    "    print(linha, end=\" \")\n",
    "    for col in range(1, M + 1):\n",
    "        print(\"/\", end=\" \")\n",
    "    print()  # Move para a próxima linha\n"
   ]
  },
  {
   "cell_type": "markdown",
   "id": "4654dc0b",
   "metadata": {},
   "source": [
    "---\n",
    "## Break e Continue"
   ]
  },
  {
   "cell_type": "markdown",
   "id": "24fe9d85",
   "metadata": {},
   "source": [
    "### Q6.\n",
    "\n",
    "Escreva um programa que lê uma quantidade indefinida de valores e informa o maior e o menor valor digitados. A leitura é encerrada quando o usuário digitar o valor 0 (zero).\n",
    "\n",
    "```\n",
    "Entrada:\n",
    "12\n",
    "-1\n",
    "29\n",
    "11\n",
    "-5\n",
    "0\n",
    "\n",
    "Saída:\n",
    "Maior: 29\n",
    "Menor: -5\n",
    "```"
   ]
  },
  {
   "cell_type": "code",
   "execution_count": 19,
   "id": "ee1c466a",
   "metadata": {},
   "outputs": [
    {
     "name": "stdin",
     "output_type": "stream",
     "text": [
      "Valor de n:  10\n",
      " 20\n",
      " 30\n",
      " 40\n",
      " 50\n",
      " 0\n"
     ]
    },
    {
     "name": "stdout",
     "output_type": "stream",
     "text": [
      "Saída: \n",
      "Maior:  50\n",
      "Menor:  10\n"
     ]
    }
   ],
   "source": [
    "## Escreva e execute seu código aqui\n",
    "n=int(input(\"Valor de n: \"))\n",
    "maior,menor= n, n\n",
    "while n != 0:\n",
    "    n=int(input())\n",
    "    if n > maior:\n",
    "        maior = n\n",
    "    elif n < menor and n != 0:\n",
    "        menor = n\n",
    "    elif n==0:\n",
    "        break\n",
    "print(\"Saída: \")\n",
    "print(\"Maior: \", maior)\n",
    "print(\"Menor: \", menor)\n",
    "    "
   ]
  },
  {
   "cell_type": "markdown",
   "id": "30d486f7",
   "metadata": {},
   "source": [
    "### Q7.\n",
    "\n",
    "Escreva um programa que lê uma quantidade indefinida de valores e informa o **produto** dos valores positivos digitados. A leitura é encerrada quando o usuário digitar o valor 0 (zero).\n",
    "\n",
    "```\n",
    "Entrada:\n",
    "2\n",
    "-1\n",
    "1\n",
    "3\n",
    "-5\n",
    "0\n",
    "\n",
    "Saída:\n",
    "Produto: 6\n",
    "```"
   ]
  },
  {
   "cell_type": "code",
   "execution_count": 23,
   "id": "2f1ac324",
   "metadata": {},
   "outputs": [
    {
     "name": "stdin",
     "output_type": "stream",
     "text": [
      " 1\n",
      " 2\n",
      " 3\n",
      " 0\n"
     ]
    },
    {
     "name": "stdout",
     "output_type": "stream",
     "text": [
      "Saída: \n",
      "Produto:  6\n"
     ]
    }
   ],
   "source": [
    "## Escreva e execute seu código aqui\n",
    "n=int(input())\n",
    "produto=1\n",
    "while n != 0:\n",
    "    n=int(input())\n",
    "    if n > 0:\n",
    "        produto *= n\n",
    "    elif n == 0:\n",
    "        break\n",
    "print(\"Saída: \")\n",
    "print(\"Produto: \", produto)"
   ]
  },
  {
   "cell_type": "markdown",
   "id": "e932f3cf",
   "metadata": {},
   "source": [
    "### Q8.\n",
    "\n",
    "Vamos fazer uma calculadora que aceita expressões aritméticas de qualquer tamanho até que o usuário digite a palavra \"Fim\". Sua calculadora executa apenas as operações \"+\", \"-\".\n",
    "\n",
    "```\n",
    "Entrada:\n",
    "5\n",
    "+\n",
    "8\n",
    "-\n",
    "3\n",
    "+\n",
    "2\n",
    "Fim\n",
    "\n",
    "Saída:\n",
    "12\n",
    "```"
   ]
  },
  {
   "cell_type": "code",
   "execution_count": 40,
   "id": "e835d870",
   "metadata": {},
   "outputs": [
    {
     "name": "stdin",
     "output_type": "stream",
     "text": [
      "N°:  5\n",
      "Operação:  +\n",
      "N°:  2\n",
      "Operação:  *\n",
      "N°:  3\n",
      "Operação:  -\n",
      "N°:  10\n",
      "Operação:  Fim\n"
     ]
    },
    {
     "name": "stdout",
     "output_type": "stream",
     "text": [
      "Saída:  11\n"
     ]
    }
   ],
   "source": [
    "## Escreva e execute seu código aqui\n",
    "nmr = int(input(\"N°: \"))  # Lê o número inicial e converte para inteiro\n",
    "while True:  # Loop infinito até encontrar a condição de parada\n",
    "    op = input(\"Operação: \")\n",
    "    if op == \"Fim\":  # Verifica se a operação é \"Fim\" para terminar o loop\n",
    "        break\n",
    "    nmr2 = int(input(\"N°: \"))  # Lê o próximo número e converte para inteiro\n",
    "\n",
    "    # Realiza a operação correspondente\n",
    "    if op == \"+\":\n",
    "        nmr = nmr + nmr2\n",
    "    elif op == \"-\":\n",
    "        nmr = nmr - nmr2\n",
    "    elif op == \"*\":\n",
    "        nmr = nmr * nmr2\n",
    "    elif op == \"**\":\n",
    "        nmr = nmr ** nmr2\n",
    "    elif op == \"/\":\n",
    "        nmr = nmr / nmr2\n",
    "\n",
    "print(\"Saída: \", nmr)  # Imprime o resultado final\n"
   ]
  },
  {
   "cell_type": "code",
   "execution_count": null,
   "id": "2ef858ec-04b6-4299-8ea8-3b64a15cdfb2",
   "metadata": {},
   "outputs": [],
   "source": []
  }
 ],
 "metadata": {
  "kernelspec": {
   "display_name": "Python 3 (ipykernel)",
   "language": "python",
   "name": "python3"
  },
  "language_info": {
   "codemirror_mode": {
    "name": "ipython",
    "version": 3
   },
   "file_extension": ".py",
   "mimetype": "text/x-python",
   "name": "python",
   "nbconvert_exporter": "python",
   "pygments_lexer": "ipython3",
   "version": "3.10.12"
  }
 },
 "nbformat": 4,
 "nbformat_minor": 5
}
